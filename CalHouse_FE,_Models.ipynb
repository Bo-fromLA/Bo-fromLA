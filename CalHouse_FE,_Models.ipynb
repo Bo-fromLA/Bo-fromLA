{
  "nbformat": 4,
  "nbformat_minor": 0,
  "metadata": {
    "colab": {
      "provenance": [],
      "authorship_tag": "ABX9TyNDtbQm0nlt9RqFJtJK1hfC",
      "include_colab_link": true
    },
    "kernelspec": {
      "name": "python3",
      "display_name": "Python 3"
    },
    "language_info": {
      "name": "python"
    }
  },
  "cells": [
    {
      "cell_type": "markdown",
      "metadata": {
        "id": "view-in-github",
        "colab_type": "text"
      },
      "source": [
        "<a href=\"https://colab.research.google.com/github/Bo-fromLA/Bo-fromLA/blob/main/CalHouse_FE%2C_Models.ipynb\" target=\"_parent\"><img src=\"https://colab.research.google.com/assets/colab-badge.svg\" alt=\"Open In Colab\"/></a>"
      ]
    },
    {
      "cell_type": "code",
      "execution_count": null,
      "metadata": {
        "id": "3Dtf591RfaSz"
      },
      "outputs": [],
      "source": [
        "import pandas as pd\n",
        "import numpy as np\n",
        "import matplotlib.pyplot as plt\n",
        "import seaborn as sns\n",
        "from sklearn.cluster import KMeans"
      ]
    },
    {
      "cell_type": "code",
      "source": [
        "df=pd.read_csv('/content/sample_data/california_housing_train.csv')"
      ],
      "metadata": {
        "id": "JdVoNKOafx3_"
      },
      "execution_count": null,
      "outputs": []
    },
    {
      "cell_type": "code",
      "source": [
        "kmeans = KMeans(n_clusters=6, random_state=1)\n",
        "\n",
        "df1=df.copy()\n",
        "\n",
        "kmeans.fit(df[['median_income']])\n",
        "df1['6k_income_groups'] = kmeans.labels_\n",
        "\n",
        "# Here we are just sorting the Kmeans labels by their ascending order\n",
        "\n",
        "cluster_mins = df1.groupby('6k_income_groups')['median_income'].min()\n",
        "sorted_clusters = cluster_mins.sort_values().index\n",
        "\n",
        "new_labels = {old_label: new_label for new_label, old_label in enumerate(sorted_clusters)}\n",
        "df1['6k_income_groups'] = df1['6k_income_groups'].map(new_labels)\n",
        "\n",
        "#df1.head(2)"
      ],
      "metadata": {
        "colab": {
          "base_uri": "https://localhost:8080/"
        },
        "id": "n-tnflY4f5B6",
        "outputId": "cb5d1e94-8a93-4d17-e389-9bfab8fd8ca8"
      },
      "execution_count": null,
      "outputs": [
        {
          "output_type": "stream",
          "name": "stderr",
          "text": [
            "/usr/local/lib/python3.10/dist-packages/sklearn/cluster/_kmeans.py:870: FutureWarning: The default value of `n_init` will change from 10 to 'auto' in 1.4. Set the value of `n_init` explicitly to suppress the warning\n",
            "  warnings.warn(\n"
          ]
        }
      ]
    },
    {
      "cell_type": "code",
      "source": [
        "df1['6q_house_values'] = pd.qcut(df1['median_house_value'], q=6, labels=False)\n",
        "df1['7q_income_qcut'] = pd.qcut(df1['median_income'], q=7, labels=False)\n",
        "\n",
        "kmeans_house_value = KMeans(n_clusters=2, random_state=1).fit(df1[['longitude', 'latitude', 'median_house_value']])\n",
        "df1['2lat_lon_house_val']=kmeans_house_value.labels_\n",
        "df1.head(2)\n",
        "\n",
        "# df1.groupby('6_income_qcut')['median_income'].describe()\n",
        "# df1.head(2)\n",
        "# df1.columns"
      ],
      "metadata": {
        "colab": {
          "base_uri": "https://localhost:8080/",
          "height": 166
        },
        "id": "GP8FcsN6gcMl",
        "outputId": "16eae82b-d6b3-41d8-cff9-3652d3382ad8"
      },
      "execution_count": null,
      "outputs": [
        {
          "output_type": "stream",
          "name": "stderr",
          "text": [
            "/usr/local/lib/python3.10/dist-packages/sklearn/cluster/_kmeans.py:870: FutureWarning: The default value of `n_init` will change from 10 to 'auto' in 1.4. Set the value of `n_init` explicitly to suppress the warning\n",
            "  warnings.warn(\n"
          ]
        },
        {
          "output_type": "execute_result",
          "data": {
            "text/plain": [
              "   longitude  latitude  housing_median_age  total_rooms  total_bedrooms  \\\n",
              "0    -114.31     34.19                15.0       5612.0          1283.0   \n",
              "1    -114.47     34.40                19.0       7650.0          1901.0   \n",
              "\n",
              "   population  households  median_income  median_house_value  \\\n",
              "0      1015.0       472.0         1.4936             66900.0   \n",
              "1      1129.0       463.0         1.8200             80100.0   \n",
              "\n",
              "   6k_income_groups  6q_house_values  7q_income_qcut  2lat_lon_house_val  \n",
              "0                 0                0               0                   1  \n",
              "1                 0                0               0                   1  "
            ],
            "text/html": [
              "\n",
              "  <div id=\"df-172b2529-d344-40f1-aa94-dee3ec53fa59\" class=\"colab-df-container\">\n",
              "    <div>\n",
              "<style scoped>\n",
              "    .dataframe tbody tr th:only-of-type {\n",
              "        vertical-align: middle;\n",
              "    }\n",
              "\n",
              "    .dataframe tbody tr th {\n",
              "        vertical-align: top;\n",
              "    }\n",
              "\n",
              "    .dataframe thead th {\n",
              "        text-align: right;\n",
              "    }\n",
              "</style>\n",
              "<table border=\"1\" class=\"dataframe\">\n",
              "  <thead>\n",
              "    <tr style=\"text-align: right;\">\n",
              "      <th></th>\n",
              "      <th>longitude</th>\n",
              "      <th>latitude</th>\n",
              "      <th>housing_median_age</th>\n",
              "      <th>total_rooms</th>\n",
              "      <th>total_bedrooms</th>\n",
              "      <th>population</th>\n",
              "      <th>households</th>\n",
              "      <th>median_income</th>\n",
              "      <th>median_house_value</th>\n",
              "      <th>6k_income_groups</th>\n",
              "      <th>6q_house_values</th>\n",
              "      <th>7q_income_qcut</th>\n",
              "      <th>2lat_lon_house_val</th>\n",
              "    </tr>\n",
              "  </thead>\n",
              "  <tbody>\n",
              "    <tr>\n",
              "      <th>0</th>\n",
              "      <td>-114.31</td>\n",
              "      <td>34.19</td>\n",
              "      <td>15.0</td>\n",
              "      <td>5612.0</td>\n",
              "      <td>1283.0</td>\n",
              "      <td>1015.0</td>\n",
              "      <td>472.0</td>\n",
              "      <td>1.4936</td>\n",
              "      <td>66900.0</td>\n",
              "      <td>0</td>\n",
              "      <td>0</td>\n",
              "      <td>0</td>\n",
              "      <td>1</td>\n",
              "    </tr>\n",
              "    <tr>\n",
              "      <th>1</th>\n",
              "      <td>-114.47</td>\n",
              "      <td>34.40</td>\n",
              "      <td>19.0</td>\n",
              "      <td>7650.0</td>\n",
              "      <td>1901.0</td>\n",
              "      <td>1129.0</td>\n",
              "      <td>463.0</td>\n",
              "      <td>1.8200</td>\n",
              "      <td>80100.0</td>\n",
              "      <td>0</td>\n",
              "      <td>0</td>\n",
              "      <td>0</td>\n",
              "      <td>1</td>\n",
              "    </tr>\n",
              "  </tbody>\n",
              "</table>\n",
              "</div>\n",
              "    <div class=\"colab-df-buttons\">\n",
              "\n",
              "  <div class=\"colab-df-container\">\n",
              "    <button class=\"colab-df-convert\" onclick=\"convertToInteractive('df-172b2529-d344-40f1-aa94-dee3ec53fa59')\"\n",
              "            title=\"Convert this dataframe to an interactive table.\"\n",
              "            style=\"display:none;\">\n",
              "\n",
              "  <svg xmlns=\"http://www.w3.org/2000/svg\" height=\"24px\" viewBox=\"0 -960 960 960\">\n",
              "    <path d=\"M120-120v-720h720v720H120Zm60-500h600v-160H180v160Zm220 220h160v-160H400v160Zm0 220h160v-160H400v160ZM180-400h160v-160H180v160Zm440 0h160v-160H620v160ZM180-180h160v-160H180v160Zm440 0h160v-160H620v160Z\"/>\n",
              "  </svg>\n",
              "    </button>\n",
              "\n",
              "  <style>\n",
              "    .colab-df-container {\n",
              "      display:flex;\n",
              "      gap: 12px;\n",
              "    }\n",
              "\n",
              "    .colab-df-convert {\n",
              "      background-color: #E8F0FE;\n",
              "      border: none;\n",
              "      border-radius: 50%;\n",
              "      cursor: pointer;\n",
              "      display: none;\n",
              "      fill: #1967D2;\n",
              "      height: 32px;\n",
              "      padding: 0 0 0 0;\n",
              "      width: 32px;\n",
              "    }\n",
              "\n",
              "    .colab-df-convert:hover {\n",
              "      background-color: #E2EBFA;\n",
              "      box-shadow: 0px 1px 2px rgba(60, 64, 67, 0.3), 0px 1px 3px 1px rgba(60, 64, 67, 0.15);\n",
              "      fill: #174EA6;\n",
              "    }\n",
              "\n",
              "    .colab-df-buttons div {\n",
              "      margin-bottom: 4px;\n",
              "    }\n",
              "\n",
              "    [theme=dark] .colab-df-convert {\n",
              "      background-color: #3B4455;\n",
              "      fill: #D2E3FC;\n",
              "    }\n",
              "\n",
              "    [theme=dark] .colab-df-convert:hover {\n",
              "      background-color: #434B5C;\n",
              "      box-shadow: 0px 1px 3px 1px rgba(0, 0, 0, 0.15);\n",
              "      filter: drop-shadow(0px 1px 2px rgba(0, 0, 0, 0.3));\n",
              "      fill: #FFFFFF;\n",
              "    }\n",
              "  </style>\n",
              "\n",
              "    <script>\n",
              "      const buttonEl =\n",
              "        document.querySelector('#df-172b2529-d344-40f1-aa94-dee3ec53fa59 button.colab-df-convert');\n",
              "      buttonEl.style.display =\n",
              "        google.colab.kernel.accessAllowed ? 'block' : 'none';\n",
              "\n",
              "      async function convertToInteractive(key) {\n",
              "        const element = document.querySelector('#df-172b2529-d344-40f1-aa94-dee3ec53fa59');\n",
              "        const dataTable =\n",
              "          await google.colab.kernel.invokeFunction('convertToInteractive',\n",
              "                                                    [key], {});\n",
              "        if (!dataTable) return;\n",
              "\n",
              "        const docLinkHtml = 'Like what you see? Visit the ' +\n",
              "          '<a target=\"_blank\" href=https://colab.research.google.com/notebooks/data_table.ipynb>data table notebook</a>'\n",
              "          + ' to learn more about interactive tables.';\n",
              "        element.innerHTML = '';\n",
              "        dataTable['output_type'] = 'display_data';\n",
              "        await google.colab.output.renderOutput(dataTable, element);\n",
              "        const docLink = document.createElement('div');\n",
              "        docLink.innerHTML = docLinkHtml;\n",
              "        element.appendChild(docLink);\n",
              "      }\n",
              "    </script>\n",
              "  </div>\n",
              "\n",
              "\n",
              "<div id=\"df-1d425a55-fd7b-4086-9e98-2adc8c15394c\">\n",
              "  <button class=\"colab-df-quickchart\" onclick=\"quickchart('df-1d425a55-fd7b-4086-9e98-2adc8c15394c')\"\n",
              "            title=\"Suggest charts\"\n",
              "            style=\"display:none;\">\n",
              "\n",
              "<svg xmlns=\"http://www.w3.org/2000/svg\" height=\"24px\"viewBox=\"0 0 24 24\"\n",
              "     width=\"24px\">\n",
              "    <g>\n",
              "        <path d=\"M19 3H5c-1.1 0-2 .9-2 2v14c0 1.1.9 2 2 2h14c1.1 0 2-.9 2-2V5c0-1.1-.9-2-2-2zM9 17H7v-7h2v7zm4 0h-2V7h2v10zm4 0h-2v-4h2v4z\"/>\n",
              "    </g>\n",
              "</svg>\n",
              "  </button>\n",
              "\n",
              "<style>\n",
              "  .colab-df-quickchart {\n",
              "      --bg-color: #E8F0FE;\n",
              "      --fill-color: #1967D2;\n",
              "      --hover-bg-color: #E2EBFA;\n",
              "      --hover-fill-color: #174EA6;\n",
              "      --disabled-fill-color: #AAA;\n",
              "      --disabled-bg-color: #DDD;\n",
              "  }\n",
              "\n",
              "  [theme=dark] .colab-df-quickchart {\n",
              "      --bg-color: #3B4455;\n",
              "      --fill-color: #D2E3FC;\n",
              "      --hover-bg-color: #434B5C;\n",
              "      --hover-fill-color: #FFFFFF;\n",
              "      --disabled-bg-color: #3B4455;\n",
              "      --disabled-fill-color: #666;\n",
              "  }\n",
              "\n",
              "  .colab-df-quickchart {\n",
              "    background-color: var(--bg-color);\n",
              "    border: none;\n",
              "    border-radius: 50%;\n",
              "    cursor: pointer;\n",
              "    display: none;\n",
              "    fill: var(--fill-color);\n",
              "    height: 32px;\n",
              "    padding: 0;\n",
              "    width: 32px;\n",
              "  }\n",
              "\n",
              "  .colab-df-quickchart:hover {\n",
              "    background-color: var(--hover-bg-color);\n",
              "    box-shadow: 0 1px 2px rgba(60, 64, 67, 0.3), 0 1px 3px 1px rgba(60, 64, 67, 0.15);\n",
              "    fill: var(--button-hover-fill-color);\n",
              "  }\n",
              "\n",
              "  .colab-df-quickchart-complete:disabled,\n",
              "  .colab-df-quickchart-complete:disabled:hover {\n",
              "    background-color: var(--disabled-bg-color);\n",
              "    fill: var(--disabled-fill-color);\n",
              "    box-shadow: none;\n",
              "  }\n",
              "\n",
              "  .colab-df-spinner {\n",
              "    border: 2px solid var(--fill-color);\n",
              "    border-color: transparent;\n",
              "    border-bottom-color: var(--fill-color);\n",
              "    animation:\n",
              "      spin 1s steps(1) infinite;\n",
              "  }\n",
              "\n",
              "  @keyframes spin {\n",
              "    0% {\n",
              "      border-color: transparent;\n",
              "      border-bottom-color: var(--fill-color);\n",
              "      border-left-color: var(--fill-color);\n",
              "    }\n",
              "    20% {\n",
              "      border-color: transparent;\n",
              "      border-left-color: var(--fill-color);\n",
              "      border-top-color: var(--fill-color);\n",
              "    }\n",
              "    30% {\n",
              "      border-color: transparent;\n",
              "      border-left-color: var(--fill-color);\n",
              "      border-top-color: var(--fill-color);\n",
              "      border-right-color: var(--fill-color);\n",
              "    }\n",
              "    40% {\n",
              "      border-color: transparent;\n",
              "      border-right-color: var(--fill-color);\n",
              "      border-top-color: var(--fill-color);\n",
              "    }\n",
              "    60% {\n",
              "      border-color: transparent;\n",
              "      border-right-color: var(--fill-color);\n",
              "    }\n",
              "    80% {\n",
              "      border-color: transparent;\n",
              "      border-right-color: var(--fill-color);\n",
              "      border-bottom-color: var(--fill-color);\n",
              "    }\n",
              "    90% {\n",
              "      border-color: transparent;\n",
              "      border-bottom-color: var(--fill-color);\n",
              "    }\n",
              "  }\n",
              "</style>\n",
              "\n",
              "  <script>\n",
              "    async function quickchart(key) {\n",
              "      const quickchartButtonEl =\n",
              "        document.querySelector('#' + key + ' button');\n",
              "      quickchartButtonEl.disabled = true;  // To prevent multiple clicks.\n",
              "      quickchartButtonEl.classList.add('colab-df-spinner');\n",
              "      try {\n",
              "        const charts = await google.colab.kernel.invokeFunction(\n",
              "            'suggestCharts', [key], {});\n",
              "      } catch (error) {\n",
              "        console.error('Error during call to suggestCharts:', error);\n",
              "      }\n",
              "      quickchartButtonEl.classList.remove('colab-df-spinner');\n",
              "      quickchartButtonEl.classList.add('colab-df-quickchart-complete');\n",
              "    }\n",
              "    (() => {\n",
              "      let quickchartButtonEl =\n",
              "        document.querySelector('#df-1d425a55-fd7b-4086-9e98-2adc8c15394c button');\n",
              "      quickchartButtonEl.style.display =\n",
              "        google.colab.kernel.accessAllowed ? 'block' : 'none';\n",
              "    })();\n",
              "  </script>\n",
              "</div>\n",
              "\n",
              "    </div>\n",
              "  </div>\n"
            ],
            "application/vnd.google.colaboratory.intrinsic+json": {
              "type": "dataframe",
              "summary": "{\n  \"name\": \"# df1\",\n  \"rows\": 2,\n  \"fields\": [\n    {\n      \"column\": \"longitude\",\n      \"properties\": {\n        \"dtype\": \"number\",\n        \"std\": 0.11313708498984519,\n        \"min\": -114.47,\n        \"max\": -114.31,\n        \"num_unique_values\": 2,\n        \"samples\": [\n          -114.47,\n          -114.31\n        ],\n        \"semantic_type\": \"\",\n        \"description\": \"\"\n      }\n    },\n    {\n      \"column\": \"latitude\",\n      \"properties\": {\n        \"dtype\": \"number\",\n        \"std\": 0.1484924240491756,\n        \"min\": 34.19,\n        \"max\": 34.4,\n        \"num_unique_values\": 2,\n        \"samples\": [\n          34.4,\n          34.19\n        ],\n        \"semantic_type\": \"\",\n        \"description\": \"\"\n      }\n    },\n    {\n      \"column\": \"housing_median_age\",\n      \"properties\": {\n        \"dtype\": \"number\",\n        \"std\": 2.8284271247461903,\n        \"min\": 15.0,\n        \"max\": 19.0,\n        \"num_unique_values\": 2,\n        \"samples\": [\n          19.0,\n          15.0\n        ],\n        \"semantic_type\": \"\",\n        \"description\": \"\"\n      }\n    },\n    {\n      \"column\": \"total_rooms\",\n      \"properties\": {\n        \"dtype\": \"number\",\n        \"std\": 1441.083620058184,\n        \"min\": 5612.0,\n        \"max\": 7650.0,\n        \"num_unique_values\": 2,\n        \"samples\": [\n          7650.0,\n          5612.0\n        ],\n        \"semantic_type\": \"\",\n        \"description\": \"\"\n      }\n    },\n    {\n      \"column\": \"total_bedrooms\",\n      \"properties\": {\n        \"dtype\": \"number\",\n        \"std\": 436.9919907732864,\n        \"min\": 1283.0,\n        \"max\": 1901.0,\n        \"num_unique_values\": 2,\n        \"samples\": [\n          1901.0,\n          1283.0\n        ],\n        \"semantic_type\": \"\",\n        \"description\": \"\"\n      }\n    },\n    {\n      \"column\": \"population\",\n      \"properties\": {\n        \"dtype\": \"number\",\n        \"std\": 80.61017305526642,\n        \"min\": 1015.0,\n        \"max\": 1129.0,\n        \"num_unique_values\": 2,\n        \"samples\": [\n          1129.0,\n          1015.0\n        ],\n        \"semantic_type\": \"\",\n        \"description\": \"\"\n      }\n    },\n    {\n      \"column\": \"households\",\n      \"properties\": {\n        \"dtype\": \"number\",\n        \"std\": 6.363961030678928,\n        \"min\": 463.0,\n        \"max\": 472.0,\n        \"num_unique_values\": 2,\n        \"samples\": [\n          463.0,\n          472.0\n        ],\n        \"semantic_type\": \"\",\n        \"description\": \"\"\n      }\n    },\n    {\n      \"column\": \"median_income\",\n      \"properties\": {\n        \"dtype\": \"number\",\n        \"std\": 0.23079965337928912,\n        \"min\": 1.4936,\n        \"max\": 1.82,\n        \"num_unique_values\": 2,\n        \"samples\": [\n          1.82,\n          1.4936\n        ],\n        \"semantic_type\": \"\",\n        \"description\": \"\"\n      }\n    },\n    {\n      \"column\": \"median_house_value\",\n      \"properties\": {\n        \"dtype\": \"number\",\n        \"std\": 9333.809511662428,\n        \"min\": 66900.0,\n        \"max\": 80100.0,\n        \"num_unique_values\": 2,\n        \"samples\": [\n          80100.0,\n          66900.0\n        ],\n        \"semantic_type\": \"\",\n        \"description\": \"\"\n      }\n    },\n    {\n      \"column\": \"6k_income_groups\",\n      \"properties\": {\n        \"dtype\": \"number\",\n        \"std\": 0,\n        \"min\": 0,\n        \"max\": 0,\n        \"num_unique_values\": 1,\n        \"samples\": [\n          0\n        ],\n        \"semantic_type\": \"\",\n        \"description\": \"\"\n      }\n    },\n    {\n      \"column\": \"6q_house_values\",\n      \"properties\": {\n        \"dtype\": \"number\",\n        \"std\": 0,\n        \"min\": 0,\n        \"max\": 0,\n        \"num_unique_values\": 1,\n        \"samples\": [\n          0\n        ],\n        \"semantic_type\": \"\",\n        \"description\": \"\"\n      }\n    },\n    {\n      \"column\": \"7q_income_qcut\",\n      \"properties\": {\n        \"dtype\": \"number\",\n        \"std\": 0,\n        \"min\": 0,\n        \"max\": 0,\n        \"num_unique_values\": 1,\n        \"samples\": [\n          0\n        ],\n        \"semantic_type\": \"\",\n        \"description\": \"\"\n      }\n    },\n    {\n      \"column\": \"2lat_lon_house_val\",\n      \"properties\": {\n        \"dtype\": \"int32\",\n        \"num_unique_values\": 1,\n        \"samples\": [\n          1\n        ],\n        \"semantic_type\": \"\",\n        \"description\": \"\"\n      }\n    }\n  ]\n}"
            }
          },
          "metadata": {},
          "execution_count": 9
        }
      ]
    },
    {
      "cell_type": "code",
      "source": [
        "plt.figure(figsize=(14,8))\n",
        "sns.heatmap(df1.corr(), annot=True)\n",
        "\n",
        "plt.show()"
      ],
      "metadata": {
        "colab": {
          "base_uri": "https://localhost:8080/",
          "height": 814
        },
        "id": "aZHC6YtojS-X",
        "outputId": "4985c09d-d139-4750-f122-26bdd9a5f4d9"
      },
      "execution_count": null,
      "outputs": [
        {
          "output_type": "display_data",
          "data": {
            "text/plain": [
              "<Figure size 1400x800 with 2 Axes>"
            ],
            "image/png": "[encoded data removed]"
          },
          "metadata": {}
        }
      ]
    },
    {
      "cell_type": "code",
      "source": [
        "y=df1['median_house_value']\n",
        "X_all=df1.drop(['median_house_value'],axis=1)\n",
        "X_corr=X_all.drop(['median_income', 'population', 'total_bedrooms','longitude','households'],axis=1)\n",
        "X_original=df.drop(['median_house_value'],axis=1)"
      ],
      "metadata": {
        "id": "gm6v9azRkNm2"
      },
      "execution_count": null,
      "outputs": []
    },
    {
      "cell_type": "code",
      "source": [
        "df1.to_csv('california_df1.csv', index=False)"
      ],
      "metadata": {
        "id": "eeP4kNbQ6kPx"
      },
      "execution_count": null,
      "outputs": []
    },
    {
      "cell_type": "code",
      "source": [
        "from sklearn.preprocessing import StandardScaler, OrdinalEncoder\n",
        "from sklearn.compose import ColumnTransformer\n",
        "from sklearn.pipeline import Pipeline\n",
        "from sklearn.model_selection import train_test_split"
      ],
      "metadata": {
        "id": "BZIiU8darDfy"
      },
      "execution_count": null,
      "outputs": []
    },
    {
      "cell_type": "code",
      "source": [
        "x_og_train, x_og_test, y_og_train, y_og_test = train_test_split(X_original, y, test_size=0.2, random_state=1)\n",
        "x_corr_train, x_corr_test, y_corr_train, y_corr_test = train_test_split(X_corr, y, test_size=0.2, random_state=1)\n",
        "x_all_train, x_all_test, y_all_train, y_all_test = train_test_split(X_all, y, test_size=0.2, random_state=1)\n",
        "\n",
        "x_og_train.shape  # (13600, 8)\n",
        "x_og_test.shape   # (3400, 8)\n",
        "x_all_train.shape # (13600, 12)\n",
        "x_all_test.shape  # (3400, 12)\n",
        "x_corr_train.shape # (13600, 7)\n",
        "x_corr_test.shape  # (3400, 7)\n",
        "\n",
        "df.dtypes\n",
        "\n",
        "# longitude             float64\n",
        "# latitude              float64\n",
        "# housing_median_age    float64\n",
        "# total_rooms           float64\n",
        "# total_bedrooms        float64\n",
        "# population            float64\n",
        "# households            float64\n",
        "# median_income         float64\n",
        "# median_house_value    float64\n",
        "# dtype: object\n",
        "\n",
        "df1.dtypes\n",
        "\n",
        "# longitude             float64\n",
        "# latitude              float64\n",
        "# housing_median_age    float64\n",
        "# total_rooms           float64\n",
        "# total_bedrooms        float64\n",
        "# population            float64\n",
        "# households            float64\n",
        "# median_income         float64\n",
        "# median_house_value    float64\n",
        "# 6k_income_groups        int64\n",
        "# 6q_house_values         int64\n",
        "# 7q_income_qcut          int64\n",
        "# 2lat_lon_house_val      int32\n",
        "# dtype: object"
      ],
      "metadata": {
        "colab": {
          "base_uri": "https://localhost:8080/"
        },
        "id": "uDS70FZqsRuw",
        "outputId": "b1d88dff-297a-4ca8-bced-054f3ace143b"
      },
      "execution_count": null,
      "outputs": [
        {
          "output_type": "execute_result",
          "data": {
            "text/plain": [
              "(3400, 7)"
            ]
          },
          "metadata": {},
          "execution_count": 29
        }
      ]
    },
    {
      "cell_type": "code",
      "source": [
        "x_og_train.shape  # (13600, 8)\n",
        "x_og_test.shape   # (3400, 8)\n",
        "x_all_train.shape # (13600, 12)\n",
        "x_all_test.shape  # (3400, 12)\n",
        "x_corr_train.shape # (13600, 7)\n",
        "x_corr_test.shape  # (3400, 7)"
      ],
      "metadata": {
        "colab": {
          "base_uri": "https://localhost:8080/"
        },
        "id": "7lfRQR8t3SQm",
        "outputId": "6cf51e15-360d-49c1-9d60-da7f42daa509"
      },
      "execution_count": null,
      "outputs": [
        {
          "output_type": "execute_result",
          "data": {
            "text/plain": [
              "(3400, 7)"
            ]
          },
          "metadata": {},
          "execution_count": 30
        }
      ]
    },
    {
      "cell_type": "code",
      "source": [
        "df.dtypes\n",
        "\n",
        "# longitude             float64\n",
        "# latitude              float64\n",
        "# housing_median_age    float64\n",
        "# total_rooms           float64\n",
        "# total_bedrooms        float64\n",
        "# population            float64\n",
        "# households            float64\n",
        "# median_income         float64\n",
        "# median_house_value    float64\n",
        "# dtype: object\n",
        "\n",
        "df1.dtypes\n",
        "\n",
        "# longitude             float64\n",
        "# latitude              float64\n",
        "# housing_median_age    float64\n",
        "# total_rooms           float64\n",
        "# total_bedrooms        float64\n",
        "# population            float64\n",
        "# households            float64\n",
        "# median_income         float64\n",
        "# median_house_value    float64\n",
        "# 6k_income_groups        int64\n",
        "# 6q_house_values         int64\n",
        "# 7q_income_qcut          int64\n",
        "# 2lat_lon_house_val      int32\n",
        "# dtype: object"
      ],
      "metadata": {
        "colab": {
          "base_uri": "https://localhost:8080/"
        },
        "id": "K4yoRrxj3yiY",
        "outputId": "f301b67d-7ef5-42e0-b197-7fb0ece996a2"
      },
      "execution_count": null,
      "outputs": [
        {
          "output_type": "execute_result",
          "data": {
            "text/plain": [
              "longitude             float64\n",
              "latitude              float64\n",
              "housing_median_age    float64\n",
              "total_rooms           float64\n",
              "total_bedrooms        float64\n",
              "population            float64\n",
              "households            float64\n",
              "median_income         float64\n",
              "median_house_value    float64\n",
              "6k_income_groups        int64\n",
              "6q_house_values         int64\n",
              "7q_income_qcut          int64\n",
              "2lat_lon_house_val      int32\n",
              "dtype: object"
            ]
          },
          "metadata": {},
          "execution_count": 28
        }
      ]
    },
    {
      "cell_type": "markdown",
      "source": [
        "---\n",
        "## Helper function to create Column transformer\n",
        "\n",
        "---"
      ],
      "metadata": {
        "id": "jRxO_P_4BWUs"
      }
    },
    {
      "cell_type": "code",
      "source": [
        "def create_preprocessor(X):\n",
        "    numeric_cols = X.select_dtypes(include=['float64']).columns\n",
        "    categorical_cols = X.select_dtypes(include=['int']).columns\n",
        "    return ColumnTransformer(\n",
        "        transformers=[\n",
        "            ('num', StandardScaler(), numeric_cols),\n",
        "            ('cat', OrdinalEncoder(), categorical_cols)\n",
        "        ]\n",
        "    )\n",
        "\n",
        "preprocessor_all = create_preprocessor(X_all)\n",
        "preprocessor_corr = create_preprocessor(X_corr)\n",
        "preprocessor_original = StandardScaler()"
      ],
      "metadata": {
        "id": "J8NgEr6DA2nx"
      },
      "execution_count": null,
      "outputs": []
    },
    {
      "cell_type": "code",
      "source": [
        "X_all.head(2)"
      ],
      "metadata": {
        "colab": {
          "base_uri": "https://localhost:8080/",
          "height": 132
        },
        "id": "XaLlPLYDLra1",
        "outputId": "3939b717-45df-4615-ef34-985bf4b4dc81"
      },
      "execution_count": null,
      "outputs": [
        {
          "output_type": "execute_result",
          "data": {
            "text/plain": [
              "   longitude  latitude  housing_median_age  total_rooms  total_bedrooms  \\\n",
              "0    -114.31     34.19                15.0       5612.0          1283.0   \n",
              "1    -114.47     34.40                19.0       7650.0          1901.0   \n",
              "\n",
              "   population  households  median_income  6k_income_groups  6q_house_values  \\\n",
              "0      1015.0       472.0         1.4936                 0                0   \n",
              "1      1129.0       463.0         1.8200                 0                0   \n",
              "\n",
              "   7q_income_qcut  2lat_lon_house_val  \n",
              "0               0                   1  \n",
              "1               0                   1  "
            ],
            "text/html": [
              "\n",
              "  <div id=\"df-6a88bb37-33ce-475e-8d6e-2bf6b5402163\" class=\"colab-df-container\">\n",
              "    <div>\n",
              "<style scoped>\n",
              "    .dataframe tbody tr th:only-of-type {\n",
              "        vertical-align: middle;\n",
              "    }\n",
              "\n",
              "    .dataframe tbody tr th {\n",
              "        vertical-align: top;\n",
              "    }\n",
              "\n",
              "    .dataframe thead th {\n",
              "        text-align: right;\n",
              "    }\n",
              "</style>\n",
              "<table border=\"1\" class=\"dataframe\">\n",
              "  <thead>\n",
              "    <tr style=\"text-align: right;\">\n",
              "      <th></th>\n",
              "      <th>longitude</th>\n",
              "      <th>latitude</th>\n",
              "      <th>housing_median_age</th>\n",
              "      <th>total_rooms</th>\n",
              "      <th>total_bedrooms</th>\n",
              "      <th>population</th>\n",
              "      <th>households</th>\n",
              "      <th>median_income</th>\n",
              "      <th>6k_income_groups</th>\n",
              "      <th>6q_house_values</th>\n",
              "      <th>7q_income_qcut</th>\n",
              "      <th>2lat_lon_house_val</th>\n",
              "    </tr>\n",
              "  </thead>\n",
              "  <tbody>\n",
              "    <tr>\n",
              "      <th>0</th>\n",
              "      <td>-114.31</td>\n",
              "      <td>34.19</td>\n",
              "      <td>15.0</td>\n",
              "      <td>5612.0</td>\n",
              "      <td>1283.0</td>\n",
              "      <td>1015.0</td>\n",
              "      <td>472.0</td>\n",
              "      <td>1.4936</td>\n",
              "      <td>0</td>\n",
              "      <td>0</td>\n",
              "      <td>0</td>\n",
              "      <td>1</td>\n",
              "    </tr>\n",
              "    <tr>\n",
              "      <th>1</th>\n",
              "      <td>-114.47</td>\n",
              "      <td>34.40</td>\n",
              "      <td>19.0</td>\n",
              "      <td>7650.0</td>\n",
              "      <td>1901.0</td>\n",
              "      <td>1129.0</td>\n",
              "      <td>463.0</td>\n",
              "      <td>1.8200</td>\n",
              "      <td>0</td>\n",
              "      <td>0</td>\n",
              "      <td>0</td>\n",
              "      <td>1</td>\n",
              "    </tr>\n",
              "  </tbody>\n",
              "</table>\n",
              "</div>\n",
              "    <div class=\"colab-df-buttons\">\n",
              "\n",
              "  <div class=\"colab-df-container\">\n",
              "    <button class=\"colab-df-convert\" onclick=\"convertToInteractive('df-6a88bb37-33ce-475e-8d6e-2bf6b5402163')\"\n",
              "            title=\"Convert this dataframe to an interactive table.\"\n",
              "            style=\"display:none;\">\n",
              "\n",
              "  <svg xmlns=\"http://www.w3.org/2000/svg\" height=\"24px\" viewBox=\"0 -960 960 960\">\n",
              "    <path d=\"M120-120v-720h720v720H120Zm60-500h600v-160H180v160Zm220 220h160v-160H400v160Zm0 220h160v-160H400v160ZM180-400h160v-160H180v160Zm440 0h160v-160H620v160ZM180-180h160v-160H180v160Zm440 0h160v-160H620v160Z\"/>\n",
              "  </svg>\n",
              "    </button>\n",
              "\n",
              "  <style>\n",
              "    .colab-df-container {\n",
              "      display:flex;\n",
              "      gap: 12px;\n",
              "    }\n",
              "\n",
              "    .colab-df-convert {\n",
              "      background-color: #E8F0FE;\n",
              "      border: none;\n",
              "      border-radius: 50%;\n",
              "      cursor: pointer;\n",
              "      display: none;\n",
              "      fill: #1967D2;\n",
              "      height: 32px;\n",
              "      padding: 0 0 0 0;\n",
              "      width: 32px;\n",
              "    }\n",
              "\n",
              "    .colab-df-convert:hover {\n",
              "      background-color: #E2EBFA;\n",
              "      box-shadow: 0px 1px 2px rgba(60, 64, 67, 0.3), 0px 1px 3px 1px rgba(60, 64, 67, 0.15);\n",
              "      fill: #174EA6;\n",
              "    }\n",
              "\n",
              "    .colab-df-buttons div {\n",
              "      margin-bottom: 4px;\n",
              "    }\n",
              "\n",
              "    [theme=dark] .colab-df-convert {\n",
              "      background-color: #3B4455;\n",
              "      fill: #D2E3FC;\n",
              "    }\n",
              "\n",
              "    [theme=dark] .colab-df-convert:hover {\n",
              "      background-color: #434B5C;\n",
              "      box-shadow: 0px 1px 3px 1px rgba(0, 0, 0, 0.15);\n",
              "      filter: drop-shadow(0px 1px 2px rgba(0, 0, 0, 0.3));\n",
              "      fill: #FFFFFF;\n",
              "    }\n",
              "  </style>\n",
              "\n",
              "    <script>\n",
              "      const buttonEl =\n",
              "        document.querySelector('#df-6a88bb37-33ce-475e-8d6e-2bf6b5402163 button.colab-df-convert');\n",
              "      buttonEl.style.display =\n",
              "        google.colab.kernel.accessAllowed ? 'block' : 'none';\n",
              "\n",
              "      async function convertToInteractive(key) {\n",
              "        const element = document.querySelector('#df-6a88bb37-33ce-475e-8d6e-2bf6b5402163');\n",
              "        const dataTable =\n",
              "          await google.colab.kernel.invokeFunction('convertToInteractive',\n",
              "                                                    [key], {});\n",
              "        if (!dataTable) return;\n",
              "\n",
              "        const docLinkHtml = 'Like what you see? Visit the ' +\n",
              "          '<a target=\"_blank\" href=https://colab.research.google.com/notebooks/data_table.ipynb>data table notebook</a>'\n",
              "          + ' to learn more about interactive tables.';\n",
              "        element.innerHTML = '';\n",
              "        dataTable['output_type'] = 'display_data';\n",
              "        await google.colab.output.renderOutput(dataTable, element);\n",
              "        const docLink = document.createElement('div');\n",
              "        docLink.innerHTML = docLinkHtml;\n",
              "        element.appendChild(docLink);\n",
              "      }\n",
              "    </script>\n",
              "  </div>\n",
              "\n",
              "\n",
              "<div id=\"df-d79069dc-df8b-40cf-af88-e70c17c97cb2\">\n",
              "  <button class=\"colab-df-quickchart\" onclick=\"quickchart('df-d79069dc-df8b-40cf-af88-e70c17c97cb2')\"\n",
              "            title=\"Suggest charts\"\n",
              "            style=\"display:none;\">\n",
              "\n",
              "<svg xmlns=\"http://www.w3.org/2000/svg\" height=\"24px\"viewBox=\"0 0 24 24\"\n",
              "     width=\"24px\">\n",
              "    <g>\n",
              "        <path d=\"M19 3H5c-1.1 0-2 .9-2 2v14c0 1.1.9 2 2 2h14c1.1 0 2-.9 2-2V5c0-1.1-.9-2-2-2zM9 17H7v-7h2v7zm4 0h-2V7h2v10zm4 0h-2v-4h2v4z\"/>\n",
              "    </g>\n",
              "</svg>\n",
              "  </button>\n",
              "\n",
              "<style>\n",
              "  .colab-df-quickchart {\n",
              "      --bg-color: #E8F0FE;\n",
              "      --fill-color: #1967D2;\n",
              "      --hover-bg-color: #E2EBFA;\n",
              "      --hover-fill-color: #174EA6;\n",
              "      --disabled-fill-color: #AAA;\n",
              "      --disabled-bg-color: #DDD;\n",
              "  }\n",
              "\n",
              "  [theme=dark] .colab-df-quickchart {\n",
              "      --bg-color: #3B4455;\n",
              "      --fill-color: #D2E3FC;\n",
              "      --hover-bg-color: #434B5C;\n",
              "      --hover-fill-color: #FFFFFF;\n",
              "      --disabled-bg-color: #3B4455;\n",
              "      --disabled-fill-color: #666;\n",
              "  }\n",
              "\n",
              "  .colab-df-quickchart {\n",
              "    background-color: var(--bg-color);\n",
              "    border: none;\n",
              "    border-radius: 50%;\n",
              "    cursor: pointer;\n",
              "    display: none;\n",
              "    fill: var(--fill-color);\n",
              "    height: 32px;\n",
              "    padding: 0;\n",
              "    width: 32px;\n",
              "  }\n",
              "\n",
              "  .colab-df-quickchart:hover {\n",
              "    background-color: var(--hover-bg-color);\n",
              "    box-shadow: 0 1px 2px rgba(60, 64, 67, 0.3), 0 1px 3px 1px rgba(60, 64, 67, 0.15);\n",
              "    fill: var(--button-hover-fill-color);\n",
              "  }\n",
              "\n",
              "  .colab-df-quickchart-complete:disabled,\n",
              "  .colab-df-quickchart-complete:disabled:hover {\n",
              "    background-color: var(--disabled-bg-color);\n",
              "    fill: var(--disabled-fill-color);\n",
              "    box-shadow: none;\n",
              "  }\n",
              "\n",
              "  .colab-df-spinner {\n",
              "    border: 2px solid var(--fill-color);\n",
              "    border-color: transparent;\n",
              "    border-bottom-color: var(--fill-color);\n",
              "    animation:\n",
              "      spin 1s steps(1) infinite;\n",
              "  }\n",
              "\n",
              "  @keyframes spin {\n",
              "    0% {\n",
              "      border-color: transparent;\n",
              "      border-bottom-color: var(--fill-color);\n",
              "      border-left-color: var(--fill-color);\n",
              "    }\n",
              "    20% {\n",
              "      border-color: transparent;\n",
              "      border-left-color: var(--fill-color);\n",
              "      border-top-color: var(--fill-color);\n",
              "    }\n",
              "    30% {\n",
              "      border-color: transparent;\n",
              "      border-left-color: var(--fill-color);\n",
              "      border-top-color: var(--fill-color);\n",
              "      border-right-color: var(--fill-color);\n",
              "    }\n",
              "    40% {\n",
              "      border-color: transparent;\n",
              "      border-right-color: var(--fill-color);\n",
              "      border-top-color: var(--fill-color);\n",
              "    }\n",
              "    60% {\n",
              "      border-color: transparent;\n",
              "      border-right-color: var(--fill-color);\n",
              "    }\n",
              "    80% {\n",
              "      border-color: transparent;\n",
              "      border-right-color: var(--fill-color);\n",
              "      border-bottom-color: var(--fill-color);\n",
              "    }\n",
              "    90% {\n",
              "      border-color: transparent;\n",
              "      border-bottom-color: var(--fill-color);\n",
              "    }\n",
              "  }\n",
              "</style>\n",
              "\n",
              "  <script>\n",
              "    async function quickchart(key) {\n",
              "      const quickchartButtonEl =\n",
              "        document.querySelector('#' + key + ' button');\n",
              "      quickchartButtonEl.disabled = true;  // To prevent multiple clicks.\n",
              "      quickchartButtonEl.classList.add('colab-df-spinner');\n",
              "      try {\n",
              "        const charts = await google.colab.kernel.invokeFunction(\n",
              "            'suggestCharts', [key], {});\n",
              "      } catch (error) {\n",
              "        console.error('Error during call to suggestCharts:', error);\n",
              "      }\n",
              "      quickchartButtonEl.classList.remove('colab-df-spinner');\n",
              "      quickchartButtonEl.classList.add('colab-df-quickchart-complete');\n",
              "    }\n",
              "    (() => {\n",
              "      let quickchartButtonEl =\n",
              "        document.querySelector('#df-d79069dc-df8b-40cf-af88-e70c17c97cb2 button');\n",
              "      quickchartButtonEl.style.display =\n",
              "        google.colab.kernel.accessAllowed ? 'block' : 'none';\n",
              "    })();\n",
              "  </script>\n",
              "</div>\n",
              "\n",
              "    </div>\n",
              "  </div>\n"
            ],
            "application/vnd.google.colaboratory.intrinsic+json": {
              "type": "dataframe",
              "variable_name": "X_all",
              "summary": "{\n  \"name\": \"X_all\",\n  \"rows\": 17000,\n  \"fields\": [\n    {\n      \"column\": \"longitude\",\n      \"properties\": {\n        \"dtype\": \"number\",\n        \"std\": 2.0051664084261778,\n        \"min\": -124.35,\n        \"max\": -114.31,\n        \"num_unique_values\": 827,\n        \"samples\": [\n          -117.56,\n          -123.32,\n          -118.26\n        ],\n        \"semantic_type\": \"\",\n        \"description\": \"\"\n      }\n    },\n    {\n      \"column\": \"latitude\",\n      \"properties\": {\n        \"dtype\": \"number\",\n        \"std\": 2.1373397946570836,\n        \"min\": 32.54,\n        \"max\": 41.95,\n        \"num_unique_values\": 840,\n        \"samples\": [\n          38.44,\n          40.79,\n          32.69\n        ],\n        \"semantic_type\": \"\",\n        \"description\": \"\"\n      }\n    },\n    {\n      \"column\": \"housing_median_age\",\n      \"properties\": {\n        \"dtype\": \"number\",\n        \"std\": 12.586936981660399,\n        \"min\": 1.0,\n        \"max\": 52.0,\n        \"num_unique_values\": 52,\n        \"samples\": [\n          23.0,\n          52.0,\n          47.0\n        ],\n        \"semantic_type\": \"\",\n        \"description\": \"\"\n      }\n    },\n    {\n      \"column\": \"total_rooms\",\n      \"properties\": {\n        \"dtype\": \"number\",\n        \"std\": 2179.947071452767,\n        \"min\": 2.0,\n        \"max\": 37937.0,\n        \"num_unique_values\": 5533,\n        \"samples\": [\n          3564.0,\n          6955.0,\n          5451.0\n        ],\n        \"semantic_type\": \"\",\n        \"description\": \"\"\n      }\n    },\n    {\n      \"column\": \"total_bedrooms\",\n      \"properties\": {\n        \"dtype\": \"number\",\n        \"std\": 421.4994515798646,\n        \"min\": 1.0,\n        \"max\": 6445.0,\n        \"num_unique_values\": 1848,\n        \"samples\": [\n          729.0,\n          719.0,\n          2075.0\n        ],\n        \"semantic_type\": \"\",\n        \"description\": \"\"\n      }\n    },\n    {\n      \"column\": \"population\",\n      \"properties\": {\n        \"dtype\": \"number\",\n        \"std\": 1147.8529591595266,\n        \"min\": 3.0,\n        \"max\": 35682.0,\n        \"num_unique_values\": 3683,\n        \"samples\": [\n          249.0,\n          1735.0,\n          235.0\n        ],\n        \"semantic_type\": \"\",\n        \"description\": \"\"\n      }\n    },\n    {\n      \"column\": \"households\",\n      \"properties\": {\n        \"dtype\": \"number\",\n        \"std\": 384.5208408559009,\n        \"min\": 1.0,\n        \"max\": 6082.0,\n        \"num_unique_values\": 1740,\n        \"samples\": [\n          390.0,\n          1089.0,\n          1351.0\n        ],\n        \"semantic_type\": \"\",\n        \"description\": \"\"\n      }\n    },\n    {\n      \"column\": \"median_income\",\n      \"properties\": {\n        \"dtype\": \"number\",\n        \"std\": 1.9081565183791036,\n        \"min\": 0.4999,\n        \"max\": 15.0001,\n        \"num_unique_values\": 11175,\n        \"samples\": [\n          7.2655,\n          5.6293,\n          4.2262\n        ],\n        \"semantic_type\": \"\",\n        \"description\": \"\"\n      }\n    },\n    {\n      \"column\": \"6k_income_groups\",\n      \"properties\": {\n        \"dtype\": \"number\",\n        \"std\": 1,\n        \"min\": 0,\n        \"max\": 5,\n        \"num_unique_values\": 6,\n        \"samples\": [\n          0,\n          1,\n          4\n        ],\n        \"semantic_type\": \"\",\n        \"description\": \"\"\n      }\n    },\n    {\n      \"column\": \"6q_house_values\",\n      \"properties\": {\n        \"dtype\": \"number\",\n        \"std\": 1,\n        \"min\": 0,\n        \"max\": 5,\n        \"num_unique_values\": 6,\n        \"samples\": [\n          0,\n          1,\n          4\n        ],\n        \"semantic_type\": \"\",\n        \"description\": \"\"\n      }\n    },\n    {\n      \"column\": \"7q_income_qcut\",\n      \"properties\": {\n        \"dtype\": \"number\",\n        \"std\": 2,\n        \"min\": 0,\n        \"max\": 6,\n        \"num_unique_values\": 7,\n        \"samples\": [\n          0,\n          2,\n          4\n        ],\n        \"semantic_type\": \"\",\n        \"description\": \"\"\n      }\n    },\n    {\n      \"column\": \"2lat_lon_house_val\",\n      \"properties\": {\n        \"dtype\": \"int32\",\n        \"num_unique_values\": 2,\n        \"samples\": [\n          0,\n          1\n        ],\n        \"semantic_type\": \"\",\n        \"description\": \"\"\n      }\n    }\n  ]\n}"
            }
          },
          "metadata": {},
          "execution_count": 10
        }
      ]
    },
    {
      "cell_type": "code",
      "source": [
        "from sklearn.linear_model import LinearRegression\n",
        "from sklearn.metrics import mean_absolute_error, r2_score\n",
        "from sklearn.pipeline import make_pipeline, Pipeline\n",
        "from sklearn.model_selection import cross_val_score\n",
        "from sklearn.preprocessing import PolynomialFeatures\n",
        "from sklearn.ensemble import RandomForestRegressor\n",
        "from xgboost import XGBRegressor\n",
        "from sklearn.svm import SVR"
      ],
      "metadata": {
        "id": "Y8tydXTvtajV"
      },
      "execution_count": null,
      "outputs": []
    },
    {
      "cell_type": "markdown",
      "source": [
        "---\n",
        "# Helper function to create pipelines for different models\n",
        "\n",
        "\n",
        "---\n",
        "\n",
        "\n"
      ],
      "metadata": {
        "id": "2rWNJq-EBpbp"
      }
    },
    {
      "cell_type": "markdown",
      "source": [
        "This is me trying to run multiple versions of datasets with different models"
      ],
      "metadata": {
        "id": "0U17qwsFKZEJ"
      }
    },
    {
      "cell_type": "code",
      "source": [
        "def create_pipeline(preprocessor, model, poly=None):\n",
        "    steps = [('preprocessor', preprocessor)]\n",
        "    if poly:\n",
        "        steps.append(('poly', PolynomialFeatures(degree=poly)))\n",
        "    steps.append(('model', model))\n",
        "    return Pipeline(steps=steps)"
      ],
      "metadata": {
        "id": "tcNvUOcNtoWi"
      },
      "execution_count": null,
      "outputs": []
    },
    {
      "cell_type": "markdown",
      "source": [
        "# LINEAR REGRESSION\n",
        "\n"
      ],
      "metadata": {
        "id": "SNAvkouMyVoh"
      }
    },
    {
      "cell_type": "code",
      "source": [
        "linear_original = create_pipeline(preprocessor_original, LinearRegression())\n",
        "linear_all = create_pipeline(preprocessor_all, LinearRegression())\n",
        "linear_corr = create_pipeline(preprocessor_corr, LinearRegression())\n",
        "\n",
        "print('linear original score: ', cross_val_score(linear_original, x_og_train, y_og_train, cv=5).mean())   #linear original score:  0.6345042743414051\n",
        "print('linear all score: ', cross_val_score(linear_all, x_all_train, y_all_train, cv=5).mean())           # linear all score:  0.9202944853178565\n",
        "print('linear corr score: ', cross_val_score(linear_corr, x_corr_train, y_corr_train, cv=5).mean())       # linear corr score:  0.9086257375090965"
      ],
      "metadata": {
        "colab": {
          "base_uri": "https://localhost:8080/"
        },
        "id": "gbjRdU3WLLLH",
        "outputId": "e9b18983-0b0e-48c0-c923-fd0069d2551d"
      },
      "execution_count": null,
      "outputs": [
        {
          "output_type": "stream",
          "name": "stdout",
          "text": [
            "linear original score:  0.6345042743414051\n",
            "linear all score:  0.9202944853178565\n",
            "linear corr score:  0.9086257375090965\n"
          ]
        }
      ]
    },
    {
      "cell_type": "code",
      "source": [
        "# Fitting the Linear Model\n",
        "linear_original.fit(x_og_train, y_og_train)\n",
        "linear_all.fit(x_all_train, y_all_train)\n",
        "linear_corr.fit(x_corr_train, y_corr_train)\n",
        "\n",
        "print('mae for test original: ',mean_absolute_error(y_og_test, linear_original.predict(x_og_test)), 'r2: ', r2_score(y_og_test, linear_original.predict(x_og_test)))\n",
        "# mae for test original:  49712.99694172417 r2:  0.6603046069190881\n",
        "print('mae for test all: ',mean_absolute_error(y_all_test, linear_all.predict(x_all_test)), 'r2: ', r2_score(y_all_test, linear_all.predict(x_all_test)))\n",
        "# mae for test all:  21886.726792771417 r2:  0.9200406694734176\n",
        "print('mae for test corr: ',mean_absolute_error(y_corr_test, linear_corr.predict(x_corr_test)), 'r2: ', r2_score(y_corr_test, linear_corr.predict(x_corr_test)))\n",
        "# mae for test corr:  24015.045250567826 r2:  0.9072164480197255"
      ],
      "metadata": {
        "colab": {
          "base_uri": "https://localhost:8080/"
        },
        "id": "RRT_8ewwJCWa",
        "outputId": "62e4c673-361c-4a6f-eede-46747726bd66"
      },
      "execution_count": null,
      "outputs": [
        {
          "output_type": "stream",
          "name": "stdout",
          "text": [
            "mae for test original:  49712.99694172417 r2:  0.6603046069190881\n",
            "mae for test all:  21886.726792771417 r2:  0.9200406694734176\n",
            "mae for test corr:  24015.045250567826 r2:  0.9072164480197255\n"
          ]
        }
      ]
    },
    {
      "cell_type": "code",
      "source": [
        "#Permutaion importance\n",
        "!pip install eli5\n",
        "import eli5\n",
        "from eli5.sklearn import PermutationImportance"
      ],
      "metadata": {
        "colab": {
          "base_uri": "https://localhost:8080/",
          "height": 381
        },
        "collapsed": true,
        "id": "ZPKTFmr5R-Iq",
        "outputId": "74abf8c8-e389-473e-b1ae-0f5234e4be14"
      },
      "execution_count": null,
      "outputs": [
        {
          "output_type": "stream",
          "name": "stdout",
          "text": [
            "Requirement already satisfied: eli5 in /usr/local/lib/python3.10/dist-packages (0.13.0)\n",
            "Requirement already satisfied: attrs>17.1.0 in /usr/local/lib/python3.10/dist-packages (from eli5) (23.2.0)\n",
            "Requirement already satisfied: jinja2>=3.0.0 in /usr/local/lib/python3.10/dist-packages (from eli5) (3.1.4)\n",
            "Requirement already satisfied: numpy>=1.9.0 in /usr/local/lib/python3.10/dist-packages (from eli5) (1.25.2)\n",
            "Requirement already satisfied: scipy in /usr/local/lib/python3.10/dist-packages (from eli5) (1.11.4)\n",
            "Requirement already satisfied: six in /usr/local/lib/python3.10/dist-packages (from eli5) (1.16.0)\n",
            "Requirement already satisfied: scikit-learn>=0.20 in /usr/local/lib/python3.10/dist-packages (from eli5) (1.2.2)\n",
            "Requirement already satisfied: graphviz in /usr/local/lib/python3.10/dist-packages (from eli5) (0.20.3)\n",
            "Requirement already satisfied: tabulate>=0.7.7 in /usr/local/lib/python3.10/dist-packages (from eli5) (0.9.0)\n",
            "Requirement already satisfied: MarkupSafe>=2.0 in /usr/local/lib/python3.10/dist-packages (from jinja2>=3.0.0->eli5) (2.1.5)\n",
            "Requirement already satisfied: joblib>=1.1.1 in /usr/local/lib/python3.10/dist-packages (from scikit-learn>=0.20->eli5) (1.4.2)\n",
            "Requirement already satisfied: threadpoolctl>=2.0.0 in /usr/local/lib/python3.10/dist-packages (from scikit-learn>=0.20->eli5) (3.5.0)\n"
          ]
        },
        {
          "output_type": "execute_result",
          "data": {
            "text/plain": [
              "<IPython.core.display.HTML object>"
            ],
            "text/html": [
              "\n",
              "    <style>\n",
              "    table.eli5-weights tr:hover {\n",
              "        filter: brightness(85%);\n",
              "    }\n",
              "</style>\n",
              "\n",
              "\n",
              "\n",
              "    \n",
              "\n",
              "    \n",
              "\n",
              "    \n",
              "\n",
              "    \n",
              "\n",
              "    \n",
              "\n",
              "    \n",
              "\n",
              "\n",
              "    \n",
              "\n",
              "    \n",
              "\n",
              "    \n",
              "\n",
              "    \n",
              "\n",
              "    \n",
              "\n",
              "    \n",
              "\n",
              "\n",
              "    \n",
              "\n",
              "    \n",
              "\n",
              "    \n",
              "\n",
              "    \n",
              "\n",
              "    \n",
              "        <table class=\"eli5-weights eli5-feature-importances\" style=\"border-collapse: collapse; border: none; margin-top: 0em; table-layout: auto;\">\n",
              "    <thead>\n",
              "    <tr style=\"border: none;\">\n",
              "        <th style=\"padding: 0 1em 0 0.5em; text-align: right; border: none;\">Weight</th>\n",
              "        <th style=\"padding: 0 0.5em 0 0.5em; text-align: left; border: none;\">Feature</th>\n",
              "    </tr>\n",
              "    </thead>\n",
              "    <tbody>\n",
              "    \n",
              "        <tr style=\"background-color: hsl(120, 100.00%, 80.00%); border: none;\">\n",
              "            <td style=\"padding: 0 1em 0 0.5em; text-align: right; border: none;\">\n",
              "                1.2731\n",
              "                \n",
              "                    &plusmn; 0.0218\n",
              "                \n",
              "            </td>\n",
              "            <td style=\"padding: 0 0.5em 0 0.5em; text-align: left; border: none;\">\n",
              "                latitude\n",
              "            </td>\n",
              "        </tr>\n",
              "    \n",
              "        <tr style=\"background-color: hsl(120, 100.00%, 81.42%); border: none;\">\n",
              "            <td style=\"padding: 0 1em 0 0.5em; text-align: right; border: none;\">\n",
              "                1.1459\n",
              "                \n",
              "                    &plusmn; 0.0129\n",
              "                \n",
              "            </td>\n",
              "            <td style=\"padding: 0 0.5em 0 0.5em; text-align: left; border: none;\">\n",
              "                longitude\n",
              "            </td>\n",
              "        </tr>\n",
              "    \n",
              "        <tr style=\"background-color: hsl(120, 100.00%, 84.52%); border: none;\">\n",
              "            <td style=\"padding: 0 1em 0 0.5em; text-align: right; border: none;\">\n",
              "                0.8829\n",
              "                \n",
              "                    &plusmn; 0.0089\n",
              "                \n",
              "            </td>\n",
              "            <td style=\"padding: 0 0.5em 0 0.5em; text-align: left; border: none;\">\n",
              "                median_income\n",
              "            </td>\n",
              "        </tr>\n",
              "    \n",
              "        <tr style=\"background-color: hsl(120, 100.00%, 91.56%); border: none;\">\n",
              "            <td style=\"padding: 0 1em 0 0.5em; text-align: right; border: none;\">\n",
              "                0.3712\n",
              "                \n",
              "                    &plusmn; 0.0041\n",
              "                \n",
              "            </td>\n",
              "            <td style=\"padding: 0 0.5em 0 0.5em; text-align: left; border: none;\">\n",
              "                total_bedrooms\n",
              "            </td>\n",
              "        </tr>\n",
              "    \n",
              "        <tr style=\"background-color: hsl(120, 100.00%, 93.23%); border: none;\">\n",
              "            <td style=\"padding: 0 1em 0 0.5em; text-align: right; border: none;\">\n",
              "                0.2710\n",
              "                \n",
              "                    &plusmn; 0.0063\n",
              "                \n",
              "            </td>\n",
              "            <td style=\"padding: 0 0.5em 0 0.5em; text-align: left; border: none;\">\n",
              "                population\n",
              "            </td>\n",
              "        </tr>\n",
              "    \n",
              "        <tr style=\"background-color: hsl(120, 100.00%, 98.18%); border: none;\">\n",
              "            <td style=\"padding: 0 1em 0 0.5em; text-align: right; border: none;\">\n",
              "                0.0413\n",
              "                \n",
              "                    &plusmn; 0.0043\n",
              "                \n",
              "            </td>\n",
              "            <td style=\"padding: 0 0.5em 0 0.5em; text-align: left; border: none;\">\n",
              "                total_rooms\n",
              "            </td>\n",
              "        </tr>\n",
              "    \n",
              "        <tr style=\"background-color: hsl(120, 100.00%, 98.48%); border: none;\">\n",
              "            <td style=\"padding: 0 1em 0 0.5em; text-align: right; border: none;\">\n",
              "                0.0319\n",
              "                \n",
              "                    &plusmn; 0.0048\n",
              "                \n",
              "            </td>\n",
              "            <td style=\"padding: 0 0.5em 0 0.5em; text-align: left; border: none;\">\n",
              "                households\n",
              "            </td>\n",
              "        </tr>\n",
              "    \n",
              "        <tr style=\"background-color: hsl(120, 100.00%, 98.57%); border: none;\">\n",
              "            <td style=\"padding: 0 1em 0 0.5em; text-align: right; border: none;\">\n",
              "                0.0293\n",
              "                \n",
              "                    &plusmn; 0.0038\n",
              "                \n",
              "            </td>\n",
              "            <td style=\"padding: 0 0.5em 0 0.5em; text-align: left; border: none;\">\n",
              "                housing_median_age\n",
              "            </td>\n",
              "        </tr>\n",
              "    \n",
              "    \n",
              "    </tbody>\n",
              "</table>\n",
              "    \n",
              "\n",
              "    \n",
              "\n",
              "\n",
              "    \n",
              "\n",
              "    \n",
              "\n",
              "    \n",
              "\n",
              "    \n",
              "\n",
              "    \n",
              "\n",
              "    \n",
              "\n",
              "\n",
              "\n"
            ]
          },
          "metadata": {},
          "execution_count": 17
        }
      ]
    },
    {
      "cell_type": "code",
      "source": [
        "\n",
        "perm_original = PermutationImportance(linear_original, random_state=1).fit(x_og_train, y_og_train)\n",
        "eli5.show_weights(perm_original, feature_names = x_og_train.columns.tolist())\n",
        "\n",
        "perm_all = PermutationImportance(linear_all, random_state=1).fit(x_all_train, y_all_train)\n",
        "eli5.show_weights(perm_all, feature_names = x_all_train.columns.tolist())\n",
        "\n",
        "perm_corr = PermutationImportance(linear_corr, random_state=1).fit(x_corr_train, y_corr_train)\n",
        "eli5.show_weights(perm_corr, feature_names = x_corr_train.columns.tolist())\n"
      ],
      "metadata": {
        "colab": {
          "base_uri": "https://localhost:8080/",
          "height": 156
        },
        "id": "YxaGrjuFVJnB",
        "outputId": "70a04ea2-2b21-4ba2-ee87-9e382e2d8378"
      },
      "execution_count": null,
      "outputs": [
        {
          "output_type": "execute_result",
          "data": {
            "text/plain": [
              "<IPython.core.display.HTML object>"
            ],
            "text/html": [
              "\n",
              "    <style>\n",
              "    table.eli5-weights tr:hover {\n",
              "        filter: brightness(85%);\n",
              "    }\n",
              "</style>\n",
              "\n",
              "\n",
              "\n",
              "    \n",
              "\n",
              "    \n",
              "\n",
              "    \n",
              "\n",
              "    \n",
              "\n",
              "    \n",
              "\n",
              "    \n",
              "\n",
              "\n",
              "    \n",
              "\n",
              "    \n",
              "\n",
              "    \n",
              "\n",
              "    \n",
              "\n",
              "    \n",
              "\n",
              "    \n",
              "\n",
              "\n",
              "    \n",
              "\n",
              "    \n",
              "\n",
              "    \n",
              "\n",
              "    \n",
              "\n",
              "    \n",
              "        <table class=\"eli5-weights eli5-feature-importances\" style=\"border-collapse: collapse; border: none; margin-top: 0em; table-layout: auto;\">\n",
              "    <thead>\n",
              "    <tr style=\"border: none;\">\n",
              "        <th style=\"padding: 0 1em 0 0.5em; text-align: right; border: none;\">Weight</th>\n",
              "        <th style=\"padding: 0 0.5em 0 0.5em; text-align: left; border: none;\">Feature</th>\n",
              "    </tr>\n",
              "    </thead>\n",
              "    <tbody>\n",
              "    \n",
              "        <tr style=\"background-color: hsl(120, 100.00%, 80.00%); border: none;\">\n",
              "            <td style=\"padding: 0 1em 0 0.5em; text-align: right; border: none;\">\n",
              "                0.8420\n",
              "                \n",
              "                    &plusmn; 0.0128\n",
              "                \n",
              "            </td>\n",
              "            <td style=\"padding: 0 0.5em 0 0.5em; text-align: left; border: none;\">\n",
              "                6q_house_values\n",
              "            </td>\n",
              "        </tr>\n",
              "    \n",
              "        <tr style=\"background-color: hsl(120, 100.00%, 93.41%); border: none;\">\n",
              "            <td style=\"padding: 0 1em 0 0.5em; text-align: right; border: none;\">\n",
              "                0.1726\n",
              "                \n",
              "                    &plusmn; 0.0039\n",
              "                \n",
              "            </td>\n",
              "            <td style=\"padding: 0 0.5em 0 0.5em; text-align: left; border: none;\">\n",
              "                2lat_lon_house_val\n",
              "            </td>\n",
              "        </tr>\n",
              "    \n",
              "        <tr style=\"background-color: hsl(120, 100.00%, 94.47%); border: none;\">\n",
              "            <td style=\"padding: 0 1em 0 0.5em; text-align: right; border: none;\">\n",
              "                0.1343\n",
              "                \n",
              "                    &plusmn; 0.0031\n",
              "                \n",
              "            </td>\n",
              "            <td style=\"padding: 0 0.5em 0 0.5em; text-align: left; border: none;\">\n",
              "                6k_income_groups\n",
              "            </td>\n",
              "        </tr>\n",
              "    \n",
              "        <tr style=\"background-color: hsl(120, 100.00%, 96.67%); border: none;\">\n",
              "            <td style=\"padding: 0 1em 0 0.5em; text-align: right; border: none;\">\n",
              "                0.0651\n",
              "                \n",
              "                    &plusmn; 0.0023\n",
              "                \n",
              "            </td>\n",
              "            <td style=\"padding: 0 0.5em 0 0.5em; text-align: left; border: none;\">\n",
              "                7q_income_qcut\n",
              "            </td>\n",
              "        </tr>\n",
              "    \n",
              "        <tr style=\"background-color: hsl(120, 100.00%, 99.65%); border: none;\">\n",
              "            <td style=\"padding: 0 1em 0 0.5em; text-align: right; border: none;\">\n",
              "                0.0026\n",
              "                \n",
              "                    &plusmn; 0.0003\n",
              "                \n",
              "            </td>\n",
              "            <td style=\"padding: 0 0.5em 0 0.5em; text-align: left; border: none;\">\n",
              "                housing_median_age\n",
              "            </td>\n",
              "        </tr>\n",
              "    \n",
              "        <tr style=\"background-color: hsl(120, 100.00%, 99.98%); border: none;\">\n",
              "            <td style=\"padding: 0 1em 0 0.5em; text-align: right; border: none;\">\n",
              "                0.0000\n",
              "                \n",
              "                    &plusmn; 0.0001\n",
              "                \n",
              "            </td>\n",
              "            <td style=\"padding: 0 0.5em 0 0.5em; text-align: left; border: none;\">\n",
              "                latitude\n",
              "            </td>\n",
              "        </tr>\n",
              "    \n",
              "        <tr style=\"background-color: hsl(120, 100.00%, 100.00%); border: none;\">\n",
              "            <td style=\"padding: 0 1em 0 0.5em; text-align: right; border: none;\">\n",
              "                0.0000\n",
              "                \n",
              "                    &plusmn; 0.0000\n",
              "                \n",
              "            </td>\n",
              "            <td style=\"padding: 0 0.5em 0 0.5em; text-align: left; border: none;\">\n",
              "                total_rooms\n",
              "            </td>\n",
              "        </tr>\n",
              "    \n",
              "    \n",
              "    </tbody>\n",
              "</table>\n",
              "    \n",
              "\n",
              "    \n",
              "\n",
              "\n",
              "    \n",
              "\n",
              "    \n",
              "\n",
              "    \n",
              "\n",
              "    \n",
              "\n",
              "    \n",
              "\n",
              "    \n",
              "\n",
              "\n",
              "\n"
            ]
          },
          "metadata": {},
          "execution_count": 19
        }
      ]
    },
    {
      "cell_type": "markdown",
      "source": [
        "# POLYNOMIAL FEATURES LINEAR REGRESSION"
      ],
      "metadata": {
        "id": "090ztyTkyZsf"
      }
    },
    {
      "cell_type": "code",
      "source": [
        "poly_original = create_pipeline(preprocessor_original, LinearRegression(), poly=2)\n",
        "poly_all = create_pipeline(preprocessor_all, LinearRegression(), poly=3)\n",
        "poly_corr = create_pipeline(preprocessor_corr, LinearRegression(), poly=4)\n",
        "\n",
        "print('poly original score: ', cross_val_score(poly_original, x_og_train, y_og_train, cv=5).mean())\n",
        "# oly original score:  0.6737611355444434, 3: -1.536164206737916, 4: -27.049435333688336\n",
        "print('poly all score: ', cross_val_score(poly_all, x_all_train, y_all_train, cv=5).mean())\n",
        "# poly all score:  0.9494153936419023, 3: 0.9419013806296158, 4: -5.447477721127384,\n",
        "print('poly corr score: ', cross_val_score(poly_corr, x_corr_train, y_corr_train, cv=5).mean())\n",
        "# poly corr score:  0.9446918006926094, 3: 0.9462968593691325, 4: 0.9435884515722112, 5: 0.9232414568110754"
      ],
      "metadata": {
        "colab": {
          "base_uri": "https://localhost:8080/"
        },
        "id": "s9R9MtZ9KNIt",
        "outputId": "fb2d18e4-9e95-4da8-f57b-b9ff3ea068b3"
      },
      "execution_count": null,
      "outputs": [
        {
          "output_type": "stream",
          "name": "stdout",
          "text": [
            "poly corr score:  -45455849.77252744\n"
          ]
        }
      ]
    },
    {
      "cell_type": "code",
      "source": [
        "poly_original.fit(x_og_train, y_og_train)\n",
        "poly_all.fit(x_all_train, y_all_train)\n",
        "poly_corr.fit(x_corr_train, y_corr_train)\n",
        "\n",
        "print('mae poly original: ', mean_absolute_error(y_og_test, poly_original.predict(x_og_test)), 'r2: ', r2_score(y_og_test, poly_original.predict(x_og_test)))\n",
        "# mae poly original:  43666.584860320545 r2:  0.7212614643971417, 3: 41254.35140375651 r2:  0.7415763294545767, / 4: none\n",
        "print('mae poly all: ', mean_absolute_error(y_all_test, poly_all.predict(x_all_test)), 'r2: ', r2_score(y_all_test, poly_all.predict(x_all_test)))\n",
        "# mae poly all:  17673.642929031586 r2:  0.9477449384842672, 3: 16969.423652211553 r2:  0.9488842868956057, 4: 21464.09173495573 r2:  0.7245624040738757\n",
        "print('mae poly corr: ', mean_absolute_error(y_corr_test, poly_corr.predict(x_corr_test)), 'r2: ', r2_score(y_corr_test, poly_corr.predict(x_corr_test)))\n",
        "# mae poly corr:  18443.76578624262 r2:  0.9423978711376394, 3: 17890.425964822472 r2:  0.9447605650309114, / 4: 17717.91034057617 r2:  0.9458086400607069 / 5: 17846.809739756864 r2:  0.9421144146012632"
      ],
      "metadata": {
        "colab": {
          "base_uri": "https://localhost:8080/"
        },
        "id": "52LGhbb2LbH6",
        "outputId": "fd1b87a7-7515-45c3-9ac6-cd6407a3c425"
      },
      "execution_count": null,
      "outputs": [
        {
          "output_type": "stream",
          "name": "stdout",
          "text": [
            "mae poly corr:  341438.8430005155 r2:  -26610.29612999283\n"
          ]
        }
      ]
    },
    {
      "cell_type": "markdown",
      "source": [
        "# RANDOM FOREST REGRESSOR"
      ],
      "metadata": {
        "id": "YYb35VUHLwo_"
      }
    },
    {
      "cell_type": "markdown",
      "source": [
        "## New functions for tree-based models (we don't really need to scale the numeric data)\n"
      ],
      "metadata": {
        "id": "tZF5HO0waMmR"
      }
    },
    {
      "cell_type": "code",
      "source": [
        "def tree_encoder(X):\n",
        "    categorical_cols = X.select_dtypes(include=['int']).columns\n",
        "    non_categorical_cols = X.columns.difference(categorical_cols)\n",
        "\n",
        "    transformers = []\n",
        "    if len(categorical_cols) > 0:\n",
        "        transformers.append(('cat', OrdinalEncoder(), categorical_cols))\n",
        "    if len(non_categorical_cols) > 0:\n",
        "        transformers.append(('non_cat', FunctionTransformer(validate=True), non_categorical_cols))\n",
        "\n",
        "    return ColumnTransformer(transformers)\n",
        "\n",
        "# Create the preprocessors for each dataset\n",
        "tree_prep_all = tree_encoder(X_all)\n",
        "tree_prep_corr = tree_encoder(X_corr)\n",
        "tree_prep_original = tree_encoder(X_original)"
      ],
      "metadata": {
        "id": "1ylr9UzrzNRO"
      },
      "execution_count": null,
      "outputs": []
    },
    {
      "cell_type": "code",
      "source": [
        "# Define the function for creating the pipeline\n",
        "def tree_pipes(preprocessor, model):\n",
        "    return Pipeline(steps=[\n",
        "        ('preprocessor', preprocessor),\n",
        "        ('model', model)\n",
        "    ])\n",
        "\n",
        "# Define the pipelines for each dataset\n",
        "forest_all = tree_pipes(tree_prep_all, RandomForestRegressor(n_estimators=100, random_state=1, max_depth=20))\n",
        "forest_corr = tree_pipes(tree_prep_corr, RandomForestRegressor(n_estimators=100, random_state=1, max_depth=20))\n",
        "forest_original = tree_pipes(tree_prep_original, RandomForestRegressor(n_estimators=100, random_state=1, max_depth=20))\n",
        "\n",
        "# Fit the models\n",
        "forest_original.fit(x_og_train, y_og_train)\n",
        "forest_all.fit(x_all_train, y_all_train)\n",
        "forest_corr.fit(x_corr_train, y_corr_train)\n",
        "\n",
        "# Cross-validation scores\n",
        "print('forest original score: ', cross_val_score(forest_original, x_og_train, y_og_train, cv=5).mean())\n",
        "print('forest all score: ', cross_val_score(forest_all, x_all_train, y_all_train, cv=5).mean())\n",
        "print('forest corr score: ', cross_val_score(forest_corr, x_corr_train, y_corr_train, cv=5).mean())\n",
        "\n",
        "# Evaluate the models\n",
        "print('mae forest original: ', mean_absolute_error(y_og_test, forest_original.predict(x_og_test)), 'r2: ', r2_score(y_og_test, forest_original.predict(x_og_test)))\n",
        "print('mae forest all: ', mean_absolute_error(y_all_test, forest_all.predict(x_all_test)), 'r2: ', r2_score(y_all_test, forest_all.predict(x_all_test)))\n",
        "print('mae forest corr: ', mean_absolute_error(y_corr_test, forest_corr.predict(x_corr_test)), 'r2: ', r2_score(y_corr_test, forest_corr.predict(x_corr_test)))\n"
      ],
      "metadata": {
        "id": "26LjyTrKK2bD"
      },
      "execution_count": null,
      "outputs": []
    },
    {
      "cell_type": "markdown",
      "source": [
        "---\n",
        "# OUTCOMES\n",
        "\n",
        "---\n",
        "\n",
        "linear original score:  0.6345042743414051 /\n",
        "mae for test original:  49712.99694172417 r2:  0.6603046069190881\n",
        "\n",
        "linear all score:  0.9202944853178565 /\n",
        "mae for test all:  21886.726792771417 r2:  0.9200406694734176\n",
        "\n",
        "linear corr score:  0.9086257375090965 /\n",
        "mae for test corr:  24015.045250567826 r2:  0.9072164480197255\n",
        "\n",
        "---\n",
        "poly original score:  0.6737611355444434, 3: -1.536164206737916, 4: -27.049435333688336 /\n",
        "\n",
        "/ mae poly original:  43666.584860320545 r2:  0.7212614643971417, 3: 41254.35140375651 r2:  0.7415763294545767, / 4: none\n",
        "\n",
        "poly all score:  0.9494153936419023, 3: 0.9419013806296158, 4: -5.447477721127384 /\n",
        "\n",
        "/ mae poly all:  17673.642929031586 r2:  0.9477449384842672, 3: 16969.423652211553 r2:  0.9488842868956057, 4: 21464.09173495573 r2:  0.7245624040738757\n",
        "\n",
        "poly corr score:  0.9446918006926094, 3: 0.9462968593691325, 4: 0.9435884515722112, 5: 0.9232414568110754 /\n",
        "\n",
        "/ mae poly corr:  18443.76578624262 r2:  0.9423978711376394, 3: 17890.425964822472 r2:  0.9447605650309114, / 4: 17717.91034057617 r2:  0.9458086400607069 / 5: 17846.809739756864 r2:  0.9421144146012632\n",
        "\n",
        "---\n",
        "forest original score:  0.8147097141829148 / rerun: mae forest original:  31306.361585079743 r2:  0.8313472645056008\n",
        "\n",
        "forest all score:  0.9393575498012108 / # rerun: mae forest all:  17981.81583117025 r2:  0.9390580840577447\n",
        "\n",
        "forest corr score:  0.9460419661723398 / rerun: mae forest corr:  16966.168137524197 r2:  0.9471158799258639\n",
        "\n",
        "---\n",
        "mae original score:  0.46200926361092803 / 500&10: 0.8170145348889699 /\n",
        "\n",
        "\n",
        "mae all score:  0.7934881707027424 / 500&10: 0.925582089594599 /\n",
        "\n",
        "\n",
        "mae corr score:  0.8151885905132474 / 500&10: 0.9443315244863516\n"
      ],
      "metadata": {
        "id": "3HfxXEHUM6pf"
      }
    },
    {
      "cell_type": "code",
      "source": [],
      "metadata": {
        "id": "VN9SVp3ffBj6"
      },
      "execution_count": null,
      "outputs": []
    },
    {
      "cell_type": "markdown",
      "source": [
        "# XGB REGERESSOR"
      ],
      "metadata": {
        "id": "hy97ralDPqPf"
      }
    },
    {
      "cell_type": "code",
      "source": [
        "xgb_original=tree_pipes(tree_prep_original, XGBRegressor(n_estimators=500, random_state=1, learning_rate=0.03, max_depth=10))\n",
        "xgb_all=tree_pipes(tree_prep_all, XGBRegressor(n_estimators=500, random_state=1, learning_rate=0.03, max_depth=10))\n",
        "xgb_corr=tree_pipes(tree_prep_corr, XGBRegressor(n_estimators=500, random_state=1, learning_rate=0.03, max_depth=10))\n",
        "\n",
        "xgb_original.fit(x_og_train, y_og_train)\n",
        "xgb_all.fit(x_all_train, y_all_train)\n",
        "xgb_corr.fit(x_corr_train, y_corr_train)\n",
        "\n",
        "print('xgb original score: ', cross_val_score(xgb_original, x_og_train, y_og_train, cv=5).mean())\n",
        "# xgb original score:  0.8147097141829148\n",
        "print('xgb all score: ', cross_val_score(xgb_all, x_all_train, y_all_train, cv=5).mean())\n",
        "# xgb all score:  0.9393575498012108\n",
        "print('xgb corr score: ', cross_val_score(xgb_corr, x_corr_train, y_corr_train, cv=5).mean())\n",
        "# xgb corr score:  0.9460419661723398\n",
        "\n",
        "print('mae xgb original: ', mean_absolute_error(y_og_test, xgb_original.predict(x_og_test)), 'r2: ', r2_score(y_og_test, xgb_original.predict(x_og_test)))\n",
        "# mae xgb original:  31306.361585079743 r2:  0.8313472645056008\n",
        "print('mae xgb all: ', mean_absolute_error(y_all_test, xgb_all.predict(x_all_test)), 'r2: ', r2_score(y_all_test, xgb_all.predict(x_all_test)))\n",
        "#\n",
        "print('mae xgb corr: ', mean_absolute_error(y_corr_test, xgb_corr.predict(x_corr_test)), 'r2: ', r2_score(y_corr_test, xgb_corr.predict(x_corr_test)))\n",
        "#"
      ],
      "metadata": {
        "colab": {
          "base_uri": "https://localhost:8080/"
        },
        "id": "UO3zTthSPwWz",
        "outputId": "5932f10d-5fc5-4d42-ba1d-eec9781641d1"
      },
      "execution_count": null,
      "outputs": [
        {
          "output_type": "stream",
          "name": "stdout",
          "text": [
            "mae original score:  0.8170145348889699\n",
            "mae all score:  0.925582089594599\n",
            "mae corr score:  0.9443315244863516\n"
          ]
        }
      ]
    },
    {
      "cell_type": "markdown",
      "source": [
        "# SUPPORT VECTOR REGRESSOR"
      ],
      "metadata": {
        "id": "-745EqqyNNbO"
      }
    },
    {
      "cell_type": "code",
      "source": [
        "svm_original=create_pipeline(preprocessor_original, SVR(C=1.0, kernel='rbf', epsilon=0.1))\n",
        "svm_all=create_pipeline(preprocessor_all, SVR(C=1.0, kernel='rbf', epsilon=0.1))\n",
        "svm_corr=create_pipeline(preprocessor_corr, SVR(C=1.0, kernel='rbf', epsilon=0.1))\n",
        "\n",
        "print('svm original score: ', cross_val_score(svm_original, x_og_train, y_og_train, cv=5).mean())\n",
        "print('svm all score: ', cross_val_score(svm_all, x_all_train, y_all_train, cv=5).mean())\n",
        "print('svm corr score: ', cross_val_score(svm_corr, x_corr_train, y_corr_train, cv=5).mean())"
      ],
      "metadata": {
        "id": "PGir_a14NIEo"
      },
      "execution_count": null,
      "outputs": []
    },
    {
      "cell_type": "code",
      "source": [
        "svm_original.fit(x_og_train, y_og_train)\n",
        "svm_all.fit(x_all_train, y_all_train)\n",
        "svm_corr.fit(x_corr_train, y_corr_train)\n",
        "\n",
        "print('mae svm original: ', mean_absolute_error(y_og_test, svm_original.predict(x_og_test)), 'r2: ', r2_score(y_og_test, svm_original.predict(x_og_test)))\n",
        "print('mae svm all: ', mean_absolute_error(y_all_test, svm_all.predict(x_all_test)), 'r2: ', r2_score(y_all_test, svm_all.predict(x_all_test)))\n",
        "print('mae svm corr: ', mean_absolute_error(y_corr_test, svm_corr.predict(x_corr_test)), 'r2: ', r2_score(y_corr_test, svm_corr.predict(x_corr_test)))"
      ],
      "metadata": {
        "id": "u9C4ZLILMyZ4"
      },
      "execution_count": null,
      "outputs": []
    }
  ]
}